{
 "cells": [
  {
   "cell_type": "markdown",
   "metadata": {},
   "source": [
    "# Projet 1\n",
    "## made by: José Lucas Barretto and Lucas Miguel Celinga Agrizzi"
   ]
  },
  {
   "cell_type": "markdown",
   "metadata": {},
   "source": [
    "#### Married Womens's Annual Labor Supply"
   ]
  },
  {
   "cell_type": "markdown",
   "metadata": {},
   "source": [
    "It is assumed that labor force participation depends on other sources of income, including husband's earnings (nwifeinc , measured in thousands of dollars), years of education (educ),past years of labor market experience (exper), age, number of children less than six years old (kidslt6), and number of kids between 6 and 18 years of age (kidsge6). \n",
    "Using the data in MROZ.txt from Mroz (1987) 428 of the 753 women in the sample report being in the labor force at some point during 1975."
   ]
  },
  {
   "cell_type": "code",
   "execution_count": 1,
   "metadata": {},
   "outputs": [],
   "source": [
    "#  1. inlf          =1 if in labor force, 1975\n",
    "#  2. hours         hours worked, 1975\n",
    "#  3. kidslt6       # kids < 6 years\n",
    "#  4. kidsge6       # kids 6-18\n",
    "#  5. age           woman's age in yrs\n",
    "#  6. educ          years of schooling\n",
    "#  7. wage          estimated wage from earns., hours\n",
    "#  8. repwage       reported wage at interview in 1976\n",
    "#  9. hushrs        hours worked by husband, 1975\n",
    "# 10. husage        husband's age\n",
    "#  11. huseduc      husband's years of schooling\n",
    "#  12. huswage      husband's hourly wage, 1975\n",
    "#  13. faminc       family income, 1975\n",
    "#  14. mtr          fed. marginal tax rate facing woman\n",
    "#  15. motheduc     mother's years of schooling\n",
    "#  16. fatheduc     father's years of schooling\n",
    "#  17. unem         unem. rate in county of resid.\n",
    "#  18. city         =1 if live in SMSA\n",
    "#  19. exper        actual labor mkt exper\n",
    "#  20. nwifeinc     (faminc - wage*hours)/1000\n",
    "#  21. lwage        log(wage)\n",
    "#  22. expersq      exper^2"
   ]
  },
  {
   "cell_type": "code",
   "execution_count": 2,
   "metadata": {},
   "outputs": [
    {
     "data": {
      "text/html": [
       "<div>\n",
       "<style scoped>\n",
       "    .dataframe tbody tr th:only-of-type {\n",
       "        vertical-align: middle;\n",
       "    }\n",
       "\n",
       "    .dataframe tbody tr th {\n",
       "        vertical-align: top;\n",
       "    }\n",
       "\n",
       "    .dataframe thead th {\n",
       "        text-align: right;\n",
       "    }\n",
       "</style>\n",
       "<table border=\"1\" class=\"dataframe\">\n",
       "  <thead>\n",
       "    <tr style=\"text-align: right;\">\n",
       "      <th></th>\n",
       "      <th>inlf</th>\n",
       "      <th>hours</th>\n",
       "      <th>kidslt6</th>\n",
       "      <th>kidsge6</th>\n",
       "      <th>age</th>\n",
       "      <th>educ</th>\n",
       "      <th>wage</th>\n",
       "      <th>repwage</th>\n",
       "      <th>hushrs</th>\n",
       "      <th>husage</th>\n",
       "      <th>...</th>\n",
       "      <th>faminc</th>\n",
       "      <th>mtr</th>\n",
       "      <th>motheduc</th>\n",
       "      <th>fatheduc</th>\n",
       "      <th>unem</th>\n",
       "      <th>city</th>\n",
       "      <th>exper</th>\n",
       "      <th>nwifeinc</th>\n",
       "      <th>lwage</th>\n",
       "      <th>expersq</th>\n",
       "    </tr>\n",
       "  </thead>\n",
       "  <tbody>\n",
       "    <tr>\n",
       "      <th>0</th>\n",
       "      <td>1</td>\n",
       "      <td>1610</td>\n",
       "      <td>1</td>\n",
       "      <td>0</td>\n",
       "      <td>32</td>\n",
       "      <td>12</td>\n",
       "      <td>3.3540</td>\n",
       "      <td>2.65</td>\n",
       "      <td>2708</td>\n",
       "      <td>34</td>\n",
       "      <td>...</td>\n",
       "      <td>16310</td>\n",
       "      <td>0.7215</td>\n",
       "      <td>12</td>\n",
       "      <td>7</td>\n",
       "      <td>5.0</td>\n",
       "      <td>0</td>\n",
       "      <td>14</td>\n",
       "      <td>10.910060</td>\n",
       "      <td>1.210154</td>\n",
       "      <td>196</td>\n",
       "    </tr>\n",
       "    <tr>\n",
       "      <th>1</th>\n",
       "      <td>1</td>\n",
       "      <td>1656</td>\n",
       "      <td>0</td>\n",
       "      <td>2</td>\n",
       "      <td>30</td>\n",
       "      <td>12</td>\n",
       "      <td>1.3889</td>\n",
       "      <td>2.65</td>\n",
       "      <td>2310</td>\n",
       "      <td>30</td>\n",
       "      <td>...</td>\n",
       "      <td>21800</td>\n",
       "      <td>0.6615</td>\n",
       "      <td>7</td>\n",
       "      <td>7</td>\n",
       "      <td>11.0</td>\n",
       "      <td>1</td>\n",
       "      <td>5</td>\n",
       "      <td>19.499980</td>\n",
       "      <td>0.328512</td>\n",
       "      <td>25</td>\n",
       "    </tr>\n",
       "    <tr>\n",
       "      <th>2</th>\n",
       "      <td>1</td>\n",
       "      <td>1980</td>\n",
       "      <td>1</td>\n",
       "      <td>3</td>\n",
       "      <td>35</td>\n",
       "      <td>12</td>\n",
       "      <td>4.5455</td>\n",
       "      <td>4.04</td>\n",
       "      <td>3072</td>\n",
       "      <td>40</td>\n",
       "      <td>...</td>\n",
       "      <td>21040</td>\n",
       "      <td>0.6915</td>\n",
       "      <td>12</td>\n",
       "      <td>7</td>\n",
       "      <td>5.0</td>\n",
       "      <td>0</td>\n",
       "      <td>15</td>\n",
       "      <td>12.039910</td>\n",
       "      <td>1.514138</td>\n",
       "      <td>225</td>\n",
       "    </tr>\n",
       "    <tr>\n",
       "      <th>3</th>\n",
       "      <td>1</td>\n",
       "      <td>456</td>\n",
       "      <td>0</td>\n",
       "      <td>3</td>\n",
       "      <td>34</td>\n",
       "      <td>12</td>\n",
       "      <td>1.0965</td>\n",
       "      <td>3.25</td>\n",
       "      <td>1920</td>\n",
       "      <td>53</td>\n",
       "      <td>...</td>\n",
       "      <td>7300</td>\n",
       "      <td>0.7815</td>\n",
       "      <td>7</td>\n",
       "      <td>7</td>\n",
       "      <td>5.0</td>\n",
       "      <td>0</td>\n",
       "      <td>6</td>\n",
       "      <td>6.799996</td>\n",
       "      <td>0.092123</td>\n",
       "      <td>36</td>\n",
       "    </tr>\n",
       "    <tr>\n",
       "      <th>4</th>\n",
       "      <td>1</td>\n",
       "      <td>1568</td>\n",
       "      <td>1</td>\n",
       "      <td>2</td>\n",
       "      <td>31</td>\n",
       "      <td>14</td>\n",
       "      <td>4.5918</td>\n",
       "      <td>3.60</td>\n",
       "      <td>2000</td>\n",
       "      <td>32</td>\n",
       "      <td>...</td>\n",
       "      <td>27300</td>\n",
       "      <td>0.6215</td>\n",
       "      <td>12</td>\n",
       "      <td>14</td>\n",
       "      <td>9.5</td>\n",
       "      <td>1</td>\n",
       "      <td>7</td>\n",
       "      <td>20.100060</td>\n",
       "      <td>1.524272</td>\n",
       "      <td>49</td>\n",
       "    </tr>\n",
       "  </tbody>\n",
       "</table>\n",
       "<p>5 rows × 22 columns</p>\n",
       "</div>"
      ],
      "text/plain": [
       "   inlf  hours  kidslt6  kidsge6  age  educ    wage  repwage  hushrs  husage  \\\n",
       "0     1   1610        1        0   32    12  3.3540     2.65    2708      34   \n",
       "1     1   1656        0        2   30    12  1.3889     2.65    2310      30   \n",
       "2     1   1980        1        3   35    12  4.5455     4.04    3072      40   \n",
       "3     1    456        0        3   34    12  1.0965     3.25    1920      53   \n",
       "4     1   1568        1        2   31    14  4.5918     3.60    2000      32   \n",
       "\n",
       "   ...  faminc     mtr  motheduc  fatheduc  unem  city  exper   nwifeinc  \\\n",
       "0  ...   16310  0.7215        12         7   5.0     0     14  10.910060   \n",
       "1  ...   21800  0.6615         7         7  11.0     1      5  19.499980   \n",
       "2  ...   21040  0.6915        12         7   5.0     0     15  12.039910   \n",
       "3  ...    7300  0.7815         7         7   5.0     0      6   6.799996   \n",
       "4  ...   27300  0.6215        12        14   9.5     1      7  20.100060   \n",
       "\n",
       "      lwage  expersq  \n",
       "0  1.210154      196  \n",
       "1  0.328512       25  \n",
       "2  1.514138      225  \n",
       "3  0.092123       36  \n",
       "4  1.524272       49  \n",
       "\n",
       "[5 rows x 22 columns]"
      ]
     },
     "execution_count": 2,
     "metadata": {},
     "output_type": "execute_result"
    }
   ],
   "source": [
    "import pandas as pd\n",
    "import numpy as np\n",
    "\n",
    "df = pd.read_csv('MROZ.txt', delim_whitespace=True, header = None)\n",
    "df.columns = ['inlf', 'hours', 'kidslt6', 'kidsge6', 'age', \n",
    "              'educ', 'wage', 'repwage', 'hushrs', 'husage', \n",
    "              'huseduc', 'huswage', 'faminc', 'mtr', 'motheduc',\n",
    "              'fatheduc', 'unem', 'city', 'exper', 'nwifeinc', 'lwage', 'expersq']\n",
    "\n",
    "#cleaning\n",
    "df = df[df.wage!='.']\n",
    "df.wage = df.wage.astype(float)\n",
    "df.lwage = df.lwage.astype(float)\n",
    "\n",
    "df.head()"
   ]
  },
  {
   "cell_type": "markdown",
   "metadata": {},
   "source": [
    "#### 1. Lire le fichier mroz.txt. Ne sélectionner que les observations pour lesquelles la variable wage est strictement positive."
   ]
  },
  {
   "cell_type": "code",
   "execution_count": 3,
   "metadata": {},
   "outputs": [],
   "source": [
    "df = df[df.wage>0]"
   ]
  },
  {
   "cell_type": "markdown",
   "metadata": {},
   "source": [
    "#### 2. Faire les statistiques descriptives du salaire, de l’age et de l’éducation pour l’ensemble des femmes puis, pour les femmes dont le salaire du mari est supérieure à la médiane de l’échantillon, puis pour les femmes dont le salaire du mari est inférieur à la médiane de l’échantillon"
   ]
  },
  {
   "cell_type": "code",
   "execution_count": 4,
   "metadata": {},
   "outputs": [
    {
     "name": "stdout",
     "output_type": "stream",
     "text": [
      "For women which the husband earns LESS than the median husbands wage\n",
      "WAGE :\n",
      "\n",
      "nrows:     214\n",
      "min_data:  0.1282\n",
      "max_data:  18.267\n",
      "mean:      3.4585406542056076\n",
      "var:       4.572157433253777\n",
      "median:    2.9718\n",
      "*****\n",
      "AGE :\n",
      "\n",
      "nrows:     214\n",
      "min_data:  30\n",
      "max_data:  60\n",
      "mean:      41.66822429906542\n",
      "var:       64.42730806183947\n",
      "median:    41.0\n",
      "*****\n",
      "EDUCATION :\n",
      "\n",
      "nrows:     214\n",
      "min_data:  6\n",
      "max_data:  17\n",
      "mean:      12.074766355140186\n",
      "var:       4.200017468774566\n",
      "median:    12.0\n",
      "*****\n",
      "\n",
      "\n",
      "For women which the husband earns MORE than the median husbands wage\n",
      "WAGE :\n",
      "\n",
      "nrows:     214\n",
      "min_data:  0.1616\n",
      "max_data:  25.0\n",
      "mean:      4.896822429906543\n",
      "var:       16.258248838749235\n",
      "median:    3.8464\n",
      "*****\n",
      "AGE :\n",
      "\n",
      "nrows:     214\n",
      "min_data:  30\n",
      "max_data:  59\n",
      "mean:      42.27570093457944\n",
      "var:       54.33987684513931\n",
      "median:    43.0\n",
      "*****\n",
      "EDUCATION :\n",
      "\n",
      "nrows:     214\n",
      "min_data:  5\n",
      "max_data:  17\n",
      "mean:      13.242990654205608\n",
      "var:       5.5390863830902255\n",
      "median:    12.0\n",
      "*****\n"
     ]
    }
   ],
   "source": [
    "# from scipy.stats import t\n",
    "# import statsmodels.api as sm\n",
    "\n",
    "median_husWage = np.median(df.huswage.values)\n",
    "\n",
    "#devide data with the median wage of husbands\n",
    "df_bellow_median = df[df.huswage < median_husWage]\n",
    "df_above_median  = df[df.huswage > median_husWage]\n",
    "\n",
    "\n",
    "def descrip_stat(data):\n",
    "    nrows = len(data)\n",
    "    min_data = min(data)\n",
    "    max_data = max(data)\n",
    "    mean = np.average(data)\n",
    "    var = np.var(data)\n",
    "    median = np.median(data)\n",
    "    return [nrows, min_data, max_data, mean, var, median]\n",
    "\n",
    "\n",
    "def print_stats(name, data):\n",
    "    print(name, ':\\n')\n",
    "    names = ['nrows:    ', 'min_data: ', 'max_data: ', 'mean:     ', 'var:      ', 'median:   ']\n",
    "    stat = descrip_stat(data)\n",
    "    for i in  range(len(names)):\n",
    "        print(names[i], stat[i])\n",
    "    print('*****')\n",
    "        \n",
    "\n",
    "print('For women which the husband earns LESS than the median husbands wage')\n",
    "print_stats('WAGE', df_bellow_median.wage)        \n",
    "print_stats('AGE', df_bellow_median.age)        \n",
    "print_stats('EDUCATION', df_bellow_median.educ)\n",
    "\n",
    "print('\\n\\nFor women which the husband earns MORE than the median husbands wage')\n",
    "print_stats('WAGE', df_above_median.wage)        \n",
    "print_stats('AGE', df_above_median.age)        \n",
    "print_stats('EDUCATION', df_above_median.educ)"
   ]
  },
  {
   "cell_type": "markdown",
   "metadata": {},
   "source": [
    "#### 3. Faire l'histogramme de la variable wage. Calculer le log de wage et faire l'histogramme. Comparez les deux histogrammes et commentez\n"
   ]
  },
  {
   "cell_type": "code",
   "execution_count": 5,
   "metadata": {},
   "outputs": [
    {
     "data": {
      "image/png": "[encoded data removed]",
      "text/plain": [
       "<Figure size 1152x432 with 2 Axes>"
      ]
     },
     "metadata": {
      "needs_background": "light"
     },
     "output_type": "display_data"
    }
   ],
   "source": [
    "import matplotlib.pyplot as plt\n",
    "plt.figure(figsize=(16,6))\n",
    "\n",
    "plt.subplot(121)\n",
    "plt.title('Histogram WAGE')\n",
    "plt.grid()\n",
    "plt.hist(df.wage)\n",
    "\n",
    "plt.subplot(122)\n",
    "plt.title('Histogram log(WAGE)')\n",
    "plt.grid()\n",
    "plt.hist(np.log(df.wage))\n",
    "plt.show()"
   ]
  },
  {
   "cell_type": "markdown",
   "metadata": {},
   "source": [
    "The first graph looks the wage is near a exponential distribution, otherwize the histogram from log(WAGE) looks more like a normal distribution which is communly better to work with"
   ]
  },
  {
   "cell_type": "markdown",
   "metadata": {},
   "source": [
    "#### 4. Calculer les corrélations motheduc et fatheduc. Commentez. Il y a-t-il un problème de multicollinéarité si l'on utilise ces variables comme variables explicatives ?"
   ]
  },
  {
   "cell_type": "code",
   "execution_count": 6,
   "metadata": {},
   "outputs": [
    {
     "name": "stdout",
     "output_type": "stream",
     "text": [
      "Correlation coef:  0.554063218431168\n"
     ]
    }
   ],
   "source": [
    "print('Correlation coef: ',np.corrcoef(df.motheduc, df.fatheduc)[0][1])"
   ]
  },
  {
   "cell_type": "code",
   "execution_count": 20,
   "metadata": {},
   "outputs": [],
   "source": [
    "# ------------------------FALTA RESPONDER------------------"
   ]
  },
  {
   "cell_type": "code",
   "execution_count": null,
   "metadata": {},
   "outputs": [],
   "source": []
  },
  {
   "cell_type": "markdown",
   "metadata": {},
   "source": [
    "#### 5. Faites un graphique en nuage de point entre wage et educ, wage et exper, wage et fatheduc. Commentez. S'agit-il d'un effet \"toute chose étant égale par ailleurs ?\""
   ]
  },
  {
   "cell_type": "code",
   "execution_count": 7,
   "metadata": {},
   "outputs": [
    {
     "data": {
      "image/png": "[encoded data removed]",
      "text/plain": [
       "<Figure size 1152x288 with 3 Axes>"
      ]
     },
     "metadata": {
      "needs_background": "light"
     },
     "output_type": "display_data"
    }
   ],
   "source": [
    "plt.figure(figsize=(16,4))\n",
    "\n",
    "plt.subplot(131)\n",
    "plt.title('Wage x Education')\n",
    "plt.xlabel('Wage')\n",
    "plt.ylabel('Education')\n",
    "plt.scatter(df.wage,df.educ)\n",
    "\n",
    "plt.subplot(132)\n",
    "plt.title('Wage x Experience')\n",
    "plt.xlabel('Wage')\n",
    "plt.ylabel('Experience')\n",
    "plt.scatter(df.wage,df.exper)\n",
    "\n",
    "plt.subplot(133)\n",
    "plt.title('Wage x Father Education')\n",
    "plt.xlabel('Wage')\n",
    "plt.ylabel('Father Education')\n",
    "plt.scatter(df.wage,df.fatheduc)\n",
    "\n",
    "plt.show()\n"
   ]
  },
  {
   "cell_type": "code",
   "execution_count": 19,
   "metadata": {},
   "outputs": [],
   "source": [
    "# ------------------------FALTA RESPONDER------------------"
   ]
  },
  {
   "cell_type": "code",
   "execution_count": null,
   "metadata": {},
   "outputs": [],
   "source": []
  },
  {
   "cell_type": "markdown",
   "metadata": {},
   "source": [
    "#### 6. Quelle est l'hypothèse fondamentale qui garantit des estimateurs non biaisés ? Expliquer le biais de variable omise."
   ]
  },
  {
   "cell_type": "markdown",
   "metadata": {},
   "source": [
    "To grant that the estimators are unbiased, we have to assume that:\n",
    "    1. The model can be written as a linear combination of the variables\n",
    "    2. The data has to be a random sample\n",
    "    3. The data can not be in a perfect constant variable and a exact linear dependency between two independent variables\n",
    "    4. The error must have a null expected value\n",
    "    \n",
    "Omitted variable bias is when a variable truly belongs in a model but is not expecified in the model, so your model exclude or underspecify a important variable of the regression. When you do this, the model will be unbiased if one of this conditions exists:\n",
    "    1. The slope of the true variable is null\n",
    "    2. The correlation with the true variable and all other variables in the model are null."
   ]
  },
  {
   "cell_type": "markdown",
   "metadata": {},
   "source": [
    "#### 7. Faire la régression de wage en utilisant les variables explicatives un constante, city, educ, exper, nwifeinc, kidslt6, kidsgt6. Commentez l'histogramme des résidus."
   ]
  },
  {
   "cell_type": "code",
   "execution_count": 41,
   "metadata": {},
   "outputs": [
    {
     "name": "stdout",
     "output_type": "stream",
     "text": [
      "Residuals average:  3.984351789308973e-15\n",
      "Residuals variance:  9.541620468108134\n"
     ]
    },
    {
     "data": {
      "image/png": "[encoded data removed]",
      "text/plain": [
       "<Figure size 432x288 with 1 Axes>"
      ]
     },
     "metadata": {
      "needs_background": "light"
     },
     "output_type": "display_data"
    }
   ],
   "source": [
    "import statsmodels.api as sm\n",
    "\n",
    "#select the variables to made the OLS\n",
    "# model have the var: const,     x1 = city, x2 = educ, x3 = exper, x4 = nwifeinc, x5 = kidslt6, x6 = kidsge6\n",
    "X = np.column_stack((df.city*0 +1, df.city,   df.educ,   df.exper,   df.nwifeinc,   df.kidslt6,   df.kidsge6))\n",
    "y = df.wage\n",
    "\n",
    "# make the Linear Regression\n",
    "model = sm.OLS(y,X)\n",
    "result = model.fit()\n",
    "residuals = result.resid\n",
    "print('Residuals average: ', np.average(residuals))\n",
    "print('Residuals variance: ', np.var(residuals))\n",
    "# print(result.summary())\n",
    "\n",
    "#print the histogram of residuals\n",
    "plt.title('Residuals of OLS')\n",
    "plt.hist(residuals)\n",
    "plt.show()"
   ]
  },
  {
   "cell_type": "markdown",
   "metadata": {},
   "source": [
    "The OLS make a regression  trying to aproximate the residual average to zero. As we can see, the residuals mean is next to the null value and it looks like a normal distribusction, but there are more values on the right of the curve making and their variance big. The variance is relationated with the goodness of a fit, when smaller is the variance, better is the fit."
   ]
  },
  {
   "cell_type": "markdown",
   "metadata": {},
   "source": [
    "#### 8. Faire la régrssion de lwage sur une constante, city, educ, exper, nwifeinc, kidslt6, kidsgt6. Comparer l’histogramme obtenu à celui de la question 7."
   ]
  },
  {
   "cell_type": "code",
   "execution_count": 126,
   "metadata": {},
   "outputs": [
    {
     "name": "stdout",
     "output_type": "stream",
     "text": [
      "Residuals average:  5.499235542535822e-16\n",
      "Residuals variance:  0.4406307948426156\n",
      "                            OLS Regression Results                            \n",
      "==============================================================================\n",
      "Dep. Variable:                  lwage   R-squared:                       0.156\n",
      "Model:                            OLS   Adj. R-squared:                  0.144\n",
      "Method:                 Least Squares   F-statistic:                     12.92\n",
      "Date:                Tue, 17 Nov 2020   Prob (F-statistic):           2.00e-13\n",
      "Time:                        22:45:33   Log-Likelihood:                -431.92\n",
      "No. Observations:                 428   AIC:                             877.8\n",
      "Df Residuals:                     421   BIC:                             906.3\n",
      "Df Model:                           6                                         \n",
      "Covariance Type:            nonrobust                                         \n",
      "==============================================================================\n",
      "                 coef    std err          t      P>|t|      [0.025      0.975]\n",
      "------------------------------------------------------------------------------\n",
      "const         -0.3990      0.207     -1.927      0.055      -0.806       0.008\n",
      "x1             0.0353      0.070      0.503      0.616      -0.103       0.173\n",
      "x2             0.1022      0.015      6.771      0.000       0.073       0.132\n",
      "x3             0.0155      0.004      3.452      0.001       0.007       0.024\n",
      "x4             0.0049      0.003      1.466      0.143      -0.002       0.011\n",
      "x5            -0.0453      0.085     -0.531      0.596      -0.213       0.122\n",
      "x6            -0.0117      0.027     -0.434      0.664      -0.065       0.041\n",
      "==============================================================================\n",
      "Omnibus:                       79.542   Durbin-Watson:                   1.979\n",
      "Prob(Omnibus):                  0.000   Jarque-Bera (JB):              287.193\n",
      "Skew:                          -0.795   Prob(JB):                     4.33e-63\n",
      "Kurtosis:                       6.685   Cond. No.                         178.\n",
      "==============================================================================\n",
      "\n",
      "Warnings:\n",
      "[1] Standard Errors assume that the covariance matrix of the errors is correctly specified.\n"
     ]
    },
    {
     "data": {
      "image/png": "[encoded data removed]",
      "text/plain": [
       "<Figure size 432x288 with 1 Axes>"
      ]
     },
     "metadata": {
      "needs_background": "light"
     },
     "output_type": "display_data"
    }
   ],
   "source": [
    "#select the variables to made the OLS\n",
    "# model have the var: const,     x1 = city, x2 = educ, x3 = exper, x4 = nwifeinc, x5 = kidslt6, x6 = kidsge6\n",
    "X = np.column_stack((df.city*0 +1, df.city,   df.educ,   df.exper,   df.nwifeinc,   df.kidslt6,   df.kidsge6))\n",
    "y = df.lwage\n",
    "\n",
    "# make the Linear Regression\n",
    "model = sm.OLS(y,X)\n",
    "result = model.fit()\n",
    "residuals = result.resid\n",
    "print('Residuals average: ', np.average(residuals))\n",
    "print('Residuals variance: ', np.var(residuals))\n",
    "print(result.summary())\n",
    "\n",
    "#print the histogram of residuals\n",
    "plt.title('Residuals of OLS')\n",
    "plt.hist(residuals)\n",
    "plt.show()"
   ]
  },
  {
   "cell_type": "markdown",
   "metadata": {},
   "source": [
    "The avarage of the residuals keeps next to zero as expected, but the data is better distribucted around the zero making the variance beeing smaller then the other fitting, making this OLS better then the other."
   ]
  },
  {
   "cell_type": "markdown",
   "metadata": {},
   "source": [
    "#### 9. Tester l'hypothèse de non significativité de nwifeinc avec un seuil de significativité de 1%, 5% et 10% (test alternatif des deux côtés). Commentez les p-values."
   ]
  },
  {
   "cell_type": "code",
   "execution_count": 132,
   "metadata": {},
   "outputs": [
    {
     "name": "stdout",
     "output_type": "stream",
     "text": [
      "Hipotesis Null H0: X4 = 0\n",
      "P-value of nwifeinc:  0.0713307521586304 \n",
      "\n",
      "We can reject H0...\n",
      "...with  1% of significance.  False\n",
      "...with  5% of significance.  False\n",
      "...with 10% of significance.  False\n"
     ]
    }
   ],
   "source": [
    "from scipy.stats import norm\n",
    "#extract the std error and coef\n",
    "std = result.bse\n",
    "coef = result.params\n",
    "\n",
    "#take the t and P-values\n",
    "t_values = coef/std\n",
    "p_values = norm.cdf(-1*abs(t_values))\n",
    "\n",
    "print('Hipotesis Null H0: X4 = 0')\n",
    "print('P-value of nwifeinc: ', p_values[4], '\\n')\n",
    "\n",
    "print('We can reject H0...')\n",
    "\n",
    "print('...with  1% of significance. ', p_values[4] < 0.01/2)\n",
    "print('...with  5% of significance. ', p_values[4] < 0.05/2)\n",
    "print('...with 10% of significance. ', p_values[4] < 0.10/2)"
   ]
  },
  {
   "cell_type": "markdown",
   "metadata": {},
   "source": [
    "We can not reject the hipotesis H0 because the P-value of the \"nwifeinc\" variable is around 7.1% and it is bigger than the p-value of 10% of significance with two sides which mean 5% in one side. So we can assume that the \"nwifeinc\" coef: X4 = 0 with more than 10% level of significance."
   ]
  },
  {
   "cell_type": "markdown",
   "metadata": {},
   "source": [
    "#### 10. Tester l’hypothèse que le coefficient associé à nwifeinc est égal à 0.01 avec un seuil de significativité de 5% (test à alternatif des deux côtés)"
   ]
  },
  {
   "cell_type": "code",
   "execution_count": 138,
   "metadata": {},
   "outputs": [
    {
     "name": "stdout",
     "output_type": "stream",
     "text": [
      "Hipotesis Null H0: X4 = 0.01\n",
      "P-value of nwifeinc:  0.062221503263469126 \n",
      "\n",
      "We can reject H0...\n",
      "...with  5% of significance.  False\n"
     ]
    }
   ],
   "source": [
    "expected_value = 0.01\n",
    "\n",
    "t_value_nwifeinc = (coef[4] - expected_value )/ std[4]\n",
    "p_value_nwifeinc = norm.cdf(-1*abs(t_value_nwifeinc))\n",
    "\n",
    "\n",
    "print('Hipotesis Null H0: X4 = 0.01')\n",
    "print('P-value of nwifeinc: ', p_value_nwifeinc, '\\n')\n",
    "\n",
    "print('We can reject H0...')\n",
    "print('...with  5% of significance. ', p_value_nwifeinc < 0.05/2)\n"
   ]
  },
  {
   "cell_type": "markdown",
   "metadata": {},
   "source": [
    "We can not reject the hipotesis H0 because the p-value is bigger than the area of 5%. So we can assume that the \"nwifeinc\" coef: X4 = 0.01 with more than 5% level of significance."
   ]
  },
  {
   "cell_type": "markdown",
   "metadata": {},
   "source": [
    "#### 11. Tester l’hypothèse jointe que le coefficient de nwifeinc est égal à 0.01 et que celui de city est égal à 0.05."
   ]
  },
  {
   "cell_type": "code",
   "execution_count": null,
   "metadata": {},
   "outputs": [],
   "source": [
    "# Page 143"
   ]
  },
  {
   "cell_type": "markdown",
   "metadata": {},
   "source": [
    "#### 12. Faites une représentation graphique de la manière dont le salaire augmente avec l’éducation et l’expérience professionnelle. Commentez"
   ]
  },
  {
   "cell_type": "code",
   "execution_count": null,
   "metadata": {},
   "outputs": [],
   "source": []
  },
  {
   "cell_type": "markdown",
   "metadata": {},
   "source": [
    "#### 13. Tester l’égalité des coefficients associés aux variables kidsgt6 et kidslt6. Interprétez."
   ]
  },
  {
   "cell_type": "code",
   "execution_count": null,
   "metadata": {},
   "outputs": [],
   "source": []
  },
  {
   "cell_type": "markdown",
   "metadata": {},
   "source": [
    "#### 14. En utilisant le modèle de la question 7, faire le test d'hétéroscédasticité de forme linéaire en donnant la p-valeur. Déterminer la ou les sources d’hétéroscédasticité et corriger avec les méthodes vues en cours. Comparer les écarts-types des coefficients estimés avec ceux obtenus à la question 7. Commenter."
   ]
  },
  {
   "cell_type": "code",
   "execution_count": null,
   "metadata": {},
   "outputs": [],
   "source": []
  },
  {
   "cell_type": "markdown",
   "metadata": {},
   "source": [
    "#### 15. Tester le changement de structure de la question 8 entre les femmes qui ont plus de 43 ans et les autres : test sur l'ensemble des coefficients. Refaire le test avec 3 groupes (mutuellement exclusifs) : les femmes de moins de 30 ans, entre 30 et 43 ans, plus de 43 ans. Donnez les p-valeurs"
   ]
  },
  {
   "cell_type": "code",
   "execution_count": null,
   "metadata": {},
   "outputs": [],
   "source": []
  },
  {
   "cell_type": "markdown",
   "metadata": {},
   "source": [
    "#### 16. Construire les variables binaires correspondant à l’âge des femmes de la question 15. Refaire la question 8 en ajoutant ces variables et en utilisant comme référence les femmes qui ont moins de 30 ans. Interprétez les paramètres associés aux variables binaires. Faire le test de non significativité de l’ensemble des variables binaires. Donnez les p-valeurs."
   ]
  }
 ],
 "metadata": {
  "kernelspec": {
   "display_name": "Python (py37)",
   "language": "python",
   "name": "py37"
  },
  "language_info": {
   "codemirror_mode": {
    "name": "ipython",
    "version": 3
   },
   "file_extension": ".py",
   "mimetype": "text/x-python",
   "name": "python",
   "nbconvert_exporter": "python",
   "pygments_lexer": "ipython3",
   "version": "3.7.9"
  }
 },
 "nbformat": 4,
 "nbformat_minor": 4
}
