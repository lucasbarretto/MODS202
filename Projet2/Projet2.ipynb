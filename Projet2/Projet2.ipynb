{
 "cells": [
  {
   "cell_type": "markdown",
   "metadata": {},
   "source": [
    "# Projet 2\n",
    "## made by: José Lucas Barretto and Lucas Miguel Celinga Agrizzi"
   ]
  },
  {
   "cell_type": "markdown",
   "metadata": {},
   "source": [
    "### Question 1)"
   ]
  },
  {
   "cell_type": "markdown",
   "metadata": {},
   "source": [
    "Import the dataset and sort values based on the date:"
   ]
  },
  {
   "cell_type": "code",
   "execution_count": 205,
   "metadata": {},
   "outputs": [
    {
     "data": {
      "text/html": [
       "<div>\n",
       "<style scoped>\n",
       "    .dataframe tbody tr th:only-of-type {\n",
       "        vertical-align: middle;\n",
       "    }\n",
       "\n",
       "    .dataframe tbody tr th {\n",
       "        vertical-align: top;\n",
       "    }\n",
       "\n",
       "    .dataframe thead th {\n",
       "        text-align: right;\n",
       "    }\n",
       "</style>\n",
       "<table border=\"1\" class=\"dataframe\">\n",
       "  <thead>\n",
       "    <tr style=\"text-align: right;\">\n",
       "      <th></th>\n",
       "      <th>DATE</th>\n",
       "      <th>FFR</th>\n",
       "      <th>Tbill</th>\n",
       "      <th>Tb1yr</th>\n",
       "      <th>r5</th>\n",
       "      <th>r10</th>\n",
       "      <th>PPINSA</th>\n",
       "      <th>Finished</th>\n",
       "      <th>CPI</th>\n",
       "      <th>CPICORE</th>\n",
       "      <th>M1NSA</th>\n",
       "      <th>M2SA</th>\n",
       "      <th>M2NSA</th>\n",
       "      <th>Unemp</th>\n",
       "      <th>IndProd</th>\n",
       "      <th>RGDP</th>\n",
       "      <th>Potent</th>\n",
       "      <th>Deflator</th>\n",
       "      <th>Curr</th>\n",
       "    </tr>\n",
       "  </thead>\n",
       "  <tbody>\n",
       "    <tr>\n",
       "      <th>0</th>\n",
       "      <td>1960-01-01</td>\n",
       "      <td>3.93</td>\n",
       "      <td>3.87</td>\n",
       "      <td>4.57</td>\n",
       "      <td>4.64</td>\n",
       "      <td>4.49</td>\n",
       "      <td>31.67</td>\n",
       "      <td>33.20</td>\n",
       "      <td>29.40</td>\n",
       "      <td>18.92</td>\n",
       "      <td>140.53</td>\n",
       "      <td>896.1</td>\n",
       "      <td>299.40</td>\n",
       "      <td>5.13</td>\n",
       "      <td>23.93</td>\n",
       "      <td>2845.3</td>\n",
       "      <td>2824.2</td>\n",
       "      <td>18.521</td>\n",
       "      <td>31.830</td>\n",
       "    </tr>\n",
       "    <tr>\n",
       "      <th>1</th>\n",
       "      <td>1960-04-01</td>\n",
       "      <td>3.70</td>\n",
       "      <td>2.99</td>\n",
       "      <td>3.87</td>\n",
       "      <td>4.30</td>\n",
       "      <td>4.26</td>\n",
       "      <td>31.73</td>\n",
       "      <td>33.40</td>\n",
       "      <td>29.57</td>\n",
       "      <td>19.00</td>\n",
       "      <td>138.40</td>\n",
       "      <td>903.3</td>\n",
       "      <td>300.03</td>\n",
       "      <td>5.23</td>\n",
       "      <td>23.41</td>\n",
       "      <td>2832.0</td>\n",
       "      <td>2851.2</td>\n",
       "      <td>18.579</td>\n",
       "      <td>31.862</td>\n",
       "    </tr>\n",
       "    <tr>\n",
       "      <th>2</th>\n",
       "      <td>1960-07-01</td>\n",
       "      <td>2.94</td>\n",
       "      <td>2.36</td>\n",
       "      <td>3.07</td>\n",
       "      <td>3.67</td>\n",
       "      <td>3.83</td>\n",
       "      <td>31.63</td>\n",
       "      <td>33.43</td>\n",
       "      <td>29.59</td>\n",
       "      <td>19.07</td>\n",
       "      <td>139.60</td>\n",
       "      <td>919.4</td>\n",
       "      <td>305.50</td>\n",
       "      <td>5.53</td>\n",
       "      <td>23.02</td>\n",
       "      <td>2836.6</td>\n",
       "      <td>2878.7</td>\n",
       "      <td>18.648</td>\n",
       "      <td>32.217</td>\n",
       "    </tr>\n",
       "    <tr>\n",
       "      <th>3</th>\n",
       "      <td>1960-10-01</td>\n",
       "      <td>2.30</td>\n",
       "      <td>2.31</td>\n",
       "      <td>2.99</td>\n",
       "      <td>3.75</td>\n",
       "      <td>3.89</td>\n",
       "      <td>31.70</td>\n",
       "      <td>33.67</td>\n",
       "      <td>29.78</td>\n",
       "      <td>19.14</td>\n",
       "      <td>142.67</td>\n",
       "      <td>932.8</td>\n",
       "      <td>312.30</td>\n",
       "      <td>6.27</td>\n",
       "      <td>22.47</td>\n",
       "      <td>2800.2</td>\n",
       "      <td>2906.7</td>\n",
       "      <td>18.700</td>\n",
       "      <td>32.624</td>\n",
       "    </tr>\n",
       "    <tr>\n",
       "      <th>4</th>\n",
       "      <td>1961-01-01</td>\n",
       "      <td>2.00</td>\n",
       "      <td>2.35</td>\n",
       "      <td>2.87</td>\n",
       "      <td>3.64</td>\n",
       "      <td>3.79</td>\n",
       "      <td>31.80</td>\n",
       "      <td>33.63</td>\n",
       "      <td>29.84</td>\n",
       "      <td>19.17</td>\n",
       "      <td>142.23</td>\n",
       "      <td>948.9</td>\n",
       "      <td>317.10</td>\n",
       "      <td>6.80</td>\n",
       "      <td>22.13</td>\n",
       "      <td>2816.9</td>\n",
       "      <td>2934.8</td>\n",
       "      <td>18.743</td>\n",
       "      <td>32.073</td>\n",
       "    </tr>\n",
       "  </tbody>\n",
       "</table>\n",
       "</div>"
      ],
      "text/plain": [
       "        DATE   FFR  Tbill  Tb1yr    r5   r10  PPINSA  Finished    CPI  \\\n",
       "0 1960-01-01  3.93   3.87   4.57  4.64  4.49   31.67     33.20  29.40   \n",
       "1 1960-04-01  3.70   2.99   3.87  4.30  4.26   31.73     33.40  29.57   \n",
       "2 1960-07-01  2.94   2.36   3.07  3.67  3.83   31.63     33.43  29.59   \n",
       "3 1960-10-01  2.30   2.31   2.99  3.75  3.89   31.70     33.67  29.78   \n",
       "4 1961-01-01  2.00   2.35   2.87  3.64  3.79   31.80     33.63  29.84   \n",
       "\n",
       "   CPICORE   M1NSA   M2SA   M2NSA  Unemp  IndProd    RGDP  Potent  Deflator  \\\n",
       "0    18.92  140.53  896.1  299.40   5.13    23.93  2845.3  2824.2    18.521   \n",
       "1    19.00  138.40  903.3  300.03   5.23    23.41  2832.0  2851.2    18.579   \n",
       "2    19.07  139.60  919.4  305.50   5.53    23.02  2836.6  2878.7    18.648   \n",
       "3    19.14  142.67  932.8  312.30   6.27    22.47  2800.2  2906.7    18.700   \n",
       "4    19.17  142.23  948.9  317.10   6.80    22.13  2816.9  2934.8    18.743   \n",
       "\n",
       "     Curr  \n",
       "0  31.830  \n",
       "1  31.862  \n",
       "2  32.217  \n",
       "3  32.624  \n",
       "4  32.073  "
      ]
     },
     "execution_count": 205,
     "metadata": {},
     "output_type": "execute_result"
    }
   ],
   "source": [
    "import pandas as pd\n",
    "import numpy as np\n",
    "\n",
    "df = pd.read_excel('quarterly.xls', sheet_name = 'TB3MS')\n",
    "df['DATE'] = pd.to_datetime(df.DATE)\n",
    "df.sort_values('DATE', inplace=True)\n",
    "df.head(5)"
   ]
  },
  {
   "cell_type": "markdown",
   "metadata": {},
   "source": [
    "Check for any missing dates/values in the dataset:"
   ]
  },
  {
   "cell_type": "code",
   "execution_count": 3,
   "metadata": {},
   "outputs": [
    {
     "name": "stdout",
     "output_type": "stream",
     "text": [
      "missing quarters in the dataset? - False\n",
      "missing values in the dataset? - False\n"
     ]
    }
   ],
   "source": [
    "quarters = pd.date_range(start = df['DATE'][0], end = df['DATE'][len(df)-1], freq='QS')\n",
    "missing_quarters = quarters.difference(df['DATE'])\n",
    "print('missing quarters in the dataset? -', len(missing_quarters)!=0)\n",
    "print('missing values in the dataset? -', df.isna().any().any())"
   ]
  },
  {
   "cell_type": "markdown",
   "metadata": {},
   "source": [
    "We can see that there are no missing values in the dataset."
   ]
  },
  {
   "cell_type": "markdown",
   "metadata": {},
   "source": [
    "### Question 2)"
   ]
  },
  {
   "cell_type": "markdown",
   "metadata": {},
   "source": [
    "Calculate the quarterly inflation rate in %:"
   ]
  },
  {
   "cell_type": "code",
   "execution_count": 4,
   "metadata": {},
   "outputs": [],
   "source": [
    "inf = df['CPI'].pct_change().dropna()*100\n",
    "dates = df['DATE'][1:]"
   ]
  },
  {
   "cell_type": "markdown",
   "metadata": {},
   "source": [
    "Plot the quarterly inflation rate through time:"
   ]
  },
  {
   "cell_type": "code",
   "execution_count": 5,
   "metadata": {},
   "outputs": [
    {
     "data": {
      "image/png": "[encoded data removed]",
      "text/plain": [
       "<Figure size 432x288 with 1 Axes>"
      ]
     },
     "metadata": {
      "needs_background": "light"
     },
     "output_type": "display_data"
    }
   ],
   "source": [
    "import matplotlib.pyplot as plt\n",
    "\n",
    "plt.figure()\n",
    "plt.plot(dates, inf)\n",
    "plt.ylabel('Inflation Rate (%)')\n",
    "plt.xlabel('Date', labelpad=10)\n",
    "plt.title('Quarterly Inflation Rates from 1960 to 2012', pad=10)\n",
    "plt.grid()\n",
    "plt.show()"
   ]
  },
  {
   "cell_type": "markdown",
   "metadata": {},
   "source": [
    "We can see that the inflation rate has high variations over time, specially in unstable economic periods (such as the year of 2008, for example). We can also note that it is not easy to see a tendency in the data (it is not increasing or decreasing)."
   ]
  },
  {
   "cell_type": "markdown",
   "metadata": {},
   "source": [
    "### Question 3)"
   ]
  },
  {
   "cell_type": "markdown",
   "metadata": {},
   "source": [
    "First, we're going to plot the autocorrelogram for *inf*. The idea here is to calculate the correlation between a time series observation and its previous values, which is called the autocorrelation. The autocorrelogram, thus, is just a plot of the autocorrelation by lag. To this end, we can use statsmodels' plot_acf function, which will also plot the region of confidence (values outside the blue region have confidence over 95%).\n",
    "\n",
    "In our case, we want to see how the inflation rate of one quarter correlates with that of previous quarters."
   ]
  },
  {
   "cell_type": "code",
   "execution_count": 6,
   "metadata": {},
   "outputs": [
    {
     "data": {
      "image/png": "[encoded data removed]",
      "text/plain": [
       "<Figure size 432x288 with 1 Axes>"
      ]
     },
     "metadata": {
      "needs_background": "light"
     },
     "output_type": "display_data"
    }
   ],
   "source": [
    "from statsmodels.graphics.tsaplots import plot_acf\n",
    "\n",
    "fig, ax = plt.subplots()\n",
    "ax.set_title('Autocorrelogram for Quarterly Inflation Rates', pad=10)\n",
    "ax.set_ylabel('Autocorrelation')\n",
    "ax.set_xlabel('Lag')\n",
    "plot_acf(inf, ax = ax)\n",
    "plt.show()"
   ]
  },
  {
   "cell_type": "markdown",
   "metadata": {},
   "source": [
    "We can see in the autocorrelogram above that the inflation rate of a quarter is highly correlated (> 0.5) with those of the 5 previous quarters. Also, since these autocorrelation values are outside the blue region, they have a high statistical confidence (over 95%)."
   ]
  },
  {
   "cell_type": "markdown",
   "metadata": {},
   "source": [
    "Now, let's plot the partial autocorrelogram. The idea behind the partial autocorrelogram of a time series to obtain the conditional correlation between the observation at time t and the observation at time t-h (lag h), given that we observed what we observed in all timesteps between t and h. Therefore, the partial autocorrelation aims to remove the effects of the observations between the current observation and the observation at lag h, which also means that it removes indirect correlations that are included in the autocorrelogram.\n",
    "\n",
    "Due to this property, for an AR model of order k, the partial autocorrelations are 0 for every lag beyond k. We can use this information to estimate the order of an AR model by counting the number of lags with non-zero partial autocorrelation."
   ]
  },
  {
   "cell_type": "code",
   "execution_count": 7,
   "metadata": {},
   "outputs": [
    {
     "data": {
      "image/png": "[encoded data removed]",
      "text/plain": [
       "<Figure size 432x288 with 1 Axes>"
      ]
     },
     "metadata": {
      "needs_background": "light"
     },
     "output_type": "display_data"
    }
   ],
   "source": [
    "from statsmodels.graphics.tsaplots import plot_pacf\n",
    "\n",
    "plot_pacf(inf)\n",
    "plt.show()"
   ]
  },
  {
   "cell_type": "markdown",
   "metadata": {},
   "source": [
    "From the partial autocorrelogram above, we can see that the partial autocorrelation is statistically significant for lags up to 3 (values outside the blue region, which means confidence over 95%) and that it oscillates around 0, which could suggest an AR model of order k=3 to predict the inflation."
   ]
  },
  {
   "cell_type": "markdown",
   "metadata": {},
   "source": [
    "### Question 4)"
   ]
  },
  {
   "cell_type": "markdown",
   "metadata": {},
   "source": [
    "In time series analysis, **stationarity** means that the joint distribution for random variables at times $(Y_{s+1}, Y_{s+2}, ..., Y_{s+T})$ does not depend on $s$. This means that the distribution of the processe's variables does not vary over time. \n",
    "\n",
    "On the other hand, **ergodicity** means that the process does not depend on initial conditions, and that we can deduce statistical properties given sufficient random samples of a process.\n",
    "\n",
    "If both of these conditions are satisfied, and the mean of variables is not infinite, then the temporal mean is equal to the spatial mean.\n",
    "\n",
    "$$\n",
    "E(Y_t) = \\frac{1}{T} \\sum_{t=1}^{T}Y_t \\rightarrow \\mu\n",
    "$$"
   ]
  },
  {
   "cell_type": "markdown",
   "metadata": {},
   "source": [
    "A **spurious regression** is a problem that happens when a regression shows evidence of a non-existing relationship between two variables. This means that the regression coefficient estimate should be zero (because the two variables are uncorrelated), but the regression returns a statistically significant value that is not zero, but has a high $R^2$ value (generalizes very badly). This can happen, if the time series are random walks, which are non-stationary."
   ]
  },
  {
   "cell_type": "markdown",
   "metadata": {},
   "source": [
    "### Question 5)"
   ]
  },
  {
   "cell_type": "markdown",
   "metadata": {},
   "source": [
    "We want to find the value of p that produces the best AR(p) model for the inflation values. We can do this by testing multiple AR(p) models, with varying values for p, and choosing the value that generates the model with lowest AIC value (which measures model quality while taking complexity into account)."
   ]
  },
  {
   "cell_type": "code",
   "execution_count": 8,
   "metadata": {},
   "outputs": [
    {
     "name": "stdout",
     "output_type": "stream",
     "text": [
      "lags: 1 - AIC: -1.3546907748283459 - BIC: -1.3068749529609534\n",
      "lags: 2 - AIC: -1.3771598479087657 - BIC: -1.3131917282539367\n",
      "lags: 3 - AIC: -1.457867594311414 - BIC: -1.3776383135493633\n",
      "lags: 4 - AIC: -1.451937606983782 - BIC: -1.3553370622514525\n",
      "lags: 5 - AIC: -1.4533109129135484 - BIC: -1.3402277421294364\n",
      "lags: 6 - AIC: -1.4384124181490383 - BIC: -1.308733979938759\n",
      "lag value with lowest AIC: 3\n",
      "\n",
      "                             AutoReg Model Results                             \n",
      "==============================================================================\n",
      "Dep. Variable:                    CPI   No. Observations:                  211\n",
      "Model:                     AutoReg(3)   Log Likelihood                -138.521\n",
      "Method:               Conditional MLE   S.D. of innovations              0.471\n",
      "Date:                Sat, 21 Nov 2020   AIC                             -1.458\n",
      "Time:                        13:17:33   BIC                             -1.378\n",
      "Sample:                             3   HQIC                            -1.425\n",
      "                                  211                                         \n",
      "==============================================================================\n",
      "                 coef    std err          z      P>|z|      [0.025      0.975]\n",
      "------------------------------------------------------------------------------\n",
      "intercept      0.1366      0.057      2.406      0.016       0.025       0.248\n",
      "CPI.L1         0.5828      0.066      8.815      0.000       0.453       0.712\n",
      "CPI.L2        -0.0184      0.077     -0.239      0.811      -0.170       0.133\n",
      "CPI.L3         0.2979      0.066      4.515      0.000       0.169       0.427\n",
      "                                    Roots                                    \n",
      "=============================================================================\n",
      "                  Real          Imaginary           Modulus         Frequency\n",
      "-----------------------------------------------------------------------------\n",
      "AR.1            1.0906           -0.0000j            1.0906           -0.0000\n",
      "AR.2           -0.5144           -1.6774j            1.7545           -0.2974\n",
      "AR.3           -0.5144           +1.6774j            1.7545            0.2974\n",
      "-----------------------------------------------------------------------------\n"
     ]
    }
   ],
   "source": [
    "import warnings\n",
    "from statsmodels.tsa.api import AutoReg\n",
    "\n",
    "# disable warnings for improved visualization of the results\n",
    "warnings.filterwarnings('ignore')\n",
    "\n",
    "# test AR(p) models for different values of p\n",
    "max_p = 7\n",
    "results = {}\n",
    "for lag in range(1, max_p):\n",
    "    # fit the model\n",
    "    model = AutoReg(inf, lags=lag).fit()\n",
    "    \n",
    "    # save results into a dict\n",
    "    results[lag] = [model.aic, model.bic]\n",
    "    print('lags:', lag, '- AIC:', model.aic, '- BIC:', model.bic)\n",
    "\n",
    "# choose the value of p that generates the AR(p) with lowest AIC values\n",
    "best_lag = min(results, key = lambda k: results[k][0])\n",
    "print('lag value with lowest AIC:', best_lag)\n",
    "\n",
    "# build the model with the obtained value for p\n",
    "model = AutoReg(inf, lags=best_lag)\n",
    "model_results = model.fit()\n",
    "print('\\n', model_results.summary())"
   ]
  },
  {
   "cell_type": "markdown",
   "metadata": {},
   "source": [
    "### Question 6)"
   ]
  },
  {
   "cell_type": "markdown",
   "metadata": {},
   "source": [
    "The Phillips Curve model is a simple static time-series model that expresses the unemployment rate at a time $t$ in function of the inflation rate at the same time $t$: \n",
    "\n",
    "*unemployment rate*$_t$ = $\\beta_0 + \\beta_1$*inflation*$_t + u_t$\n",
    "\n",
    "We can build this using the OLS model from the statsmodels package."
   ]
  },
  {
   "cell_type": "code",
   "execution_count": 18,
   "metadata": {},
   "outputs": [
    {
     "name": "stdout",
     "output_type": "stream",
     "text": [
      "                            OLS Regression Results                            \n",
      "==============================================================================\n",
      "Dep. Variable:                  Unemp   R-squared:                       0.000\n",
      "Model:                            OLS   Adj. R-squared:                 -0.005\n",
      "Method:                 Least Squares   F-statistic:                   0.01214\n",
      "Date:                Sat, 21 Nov 2020   Prob (F-statistic):              0.912\n",
      "Time:                        13:18:26   Log-Likelihood:                -400.28\n",
      "No. Observations:                 211   AIC:                             804.6\n",
      "Df Residuals:                     209   BIC:                             811.3\n",
      "Df Model:                           1                                         \n",
      "Covariance Type:            nonrobust                                         \n",
      "==============================================================================\n",
      "                 coef    std err          t      P>|t|      [0.025      0.975]\n",
      "------------------------------------------------------------------------------\n",
      "const          6.0708      0.181     33.576      0.000       5.714       6.427\n",
      "x1             0.0159      0.144      0.110      0.912      -0.269       0.301\n",
      "==============================================================================\n",
      "Omnibus:                       13.872   Durbin-Watson:                   0.044\n",
      "Prob(Omnibus):                  0.001   Jarque-Bera (JB):               15.356\n",
      "Skew:                           0.660   Prob(JB):                     0.000463\n",
      "Kurtosis:                       2.937   Cond. No.                         2.99\n",
      "==============================================================================\n",
      "\n",
      "Warnings:\n",
      "[1] Standard Errors assume that the covariance matrix of the errors is correctly specified.\n"
     ]
    }
   ],
   "source": [
    "from statsmodels.api import OLS\n",
    "\n",
    "unemp = df['Unemp'][1:]\n",
    "y = unemp\n",
    "const = np.ones(y.shape)\n",
    "X = np.column_stack((const, inf))\n",
    "\n",
    "phillips = OLS(y, X)\n",
    "phillips_results = phillips.fit()\n",
    "print(phillips_results.summary())"
   ]
  },
  {
   "cell_type": "markdown",
   "metadata": {},
   "source": [
    "We can plot the OLS predictions to see how it fit the data we used."
   ]
  },
  {
   "cell_type": "code",
   "execution_count": 55,
   "metadata": {},
   "outputs": [
    {
     "data": {
      "image/png": "[encoded data removed]",
      "text/plain": [
       "<Figure size 432x288 with 1 Axes>"
      ]
     },
     "metadata": {
      "needs_background": "light"
     },
     "output_type": "display_data"
    }
   ],
   "source": [
    "# generate model predictions on a linspace of inflation values\n",
    "inf_samples = np.linspace(0,4,100)\n",
    "const = np.ones(inf_samples.size)\n",
    "X_samples = np.column_stack((const, inf_samples))\n",
    "\n",
    "pred = phillips_results.predict(X_samples)\n",
    "\n",
    "# plot the original samples and the OLS predictions\n",
    "plt.figure()\n",
    "plt.plot(inf_samples, pred, c='tab:red', lw=3, label='OLS Model')\n",
    "plt.scatter(inf, y, label='Samples')\n",
    "plt.legend()\n",
    "plt.title('Phillips Curve', pad=10)\n",
    "plt.xlabel('Inflation Rate (%)', labelpad=10)\n",
    "plt.ylabel('Unemployment Rate (%)')\n",
    "plt.show()"
   ]
  },
  {
   "cell_type": "markdown",
   "metadata": {},
   "source": [
    "### Question 7)"
   ]
  },
  {
   "cell_type": "markdown",
   "metadata": {},
   "source": [
    "First, let's visualize the errors (or residuals) of the OLS model."
   ]
  },
  {
   "cell_type": "code",
   "execution_count": 11,
   "metadata": {},
   "outputs": [
    {
     "data": {
      "image/png": "[encoded data removed]",
      "text/plain": [
       "<Figure size 432x288 with 1 Axes>"
      ]
     },
     "metadata": {
      "needs_background": "light"
     },
     "output_type": "display_data"
    }
   ],
   "source": [
    "# obtain residuals from OLS model\n",
    "residuals = phillips_results.resid\n",
    "\n",
    "# plot residuals\n",
    "plt.figure()\n",
    "plt.title('Residuals for Phillips Curve OLS Estimation')\n",
    "plt.xlabel('Instance Number')\n",
    "plt.ylabel('Residue')\n",
    "plt.plot(residuals)\n",
    "plt.show()"
   ]
  },
  {
   "cell_type": "markdown",
   "metadata": {},
   "source": [
    "Now, we want to verify if errors are autocorrelated. To this end, we can test the hypothesis $H_0$ that the errors are serially uncorrelated. For an AR(1) model, $u_t = \\rho u_{t-1} + e_t$, this hypothesis can be translated to:\n",
    "\n",
    "$$\n",
    "H_0: \\rho = 0\n",
    "$$\n",
    "\n",
    "Therefore, we can fit an AR(1) model to the residuals of the Phillips Curve OLS Estimator and check the t-value for $\\rho$ to test the null hypothesis."
   ]
  },
  {
   "cell_type": "code",
   "execution_count": 12,
   "metadata": {},
   "outputs": [
    {
     "name": "stdout",
     "output_type": "stream",
     "text": [
      "                            AutoReg Model Results                             \n",
      "==============================================================================\n",
      "Dep. Variable:                      y   No. Observations:                  211\n",
      "Model:                     AutoReg(1)   Log Likelihood                 -70.272\n",
      "Method:               Conditional MLE   S.D. of innovations              0.338\n",
      "Date:                Sat, 21 Nov 2020   AIC                             -2.140\n",
      "Time:                        13:17:34   BIC                             -2.092\n",
      "Sample:                             1   HQIC                            -2.121\n",
      "                                  211                                         \n",
      "==============================================================================\n",
      "                 coef    std err          z      P>|z|      [0.025      0.975]\n",
      "------------------------------------------------------------------------------\n",
      "intercept      0.0122      0.023      0.524      0.601      -0.034       0.058\n",
      "y.L1           0.9800      0.014     67.714      0.000       0.952       1.008\n",
      "                                    Roots                                    \n",
      "=============================================================================\n",
      "                  Real          Imaginary           Modulus         Frequency\n",
      "-----------------------------------------------------------------------------\n",
      "AR.1            1.0204           +0.0000j            1.0204            0.0000\n",
      "-----------------------------------------------------------------------------\n"
     ]
    }
   ],
   "source": [
    "residuals_ar = AutoReg(residuals, lags=1)\n",
    "residuals_ar_results = residuals_ar.fit()\n",
    "print(residuals_ar_results.summary())"
   ]
  },
  {
   "cell_type": "markdown",
   "metadata": {},
   "source": [
    "We can see that the p-value for the coefficient $\\rho$ (appears as y.L1 in the model's summary) is approximately 0. Therefore, we reject the null hypothesis that the errors are serially uncorrelated at 5%, and conclude that the errors are autocorrelated."
   ]
  },
  {
   "cell_type": "markdown",
   "metadata": {},
   "source": [
    "###  Question 8)"
   ]
  },
  {
   "cell_type": "markdown",
   "metadata": {},
   "source": [
    "To correct the issue of error autocorrelation, we can build the following regression model for the Phillips Curve:\n",
    "\n",
    "$$\n",
    "\\tilde{y_t} - \\rho y_{t-1} = \\beta_0(1-\\rho) + \\beta_1(\\tilde{x_t}) + e_t\n",
    "$$\n",
    "\n",
    "Where $\\tilde{y_t} = y_t - \\rho y_{t-1}$ and $\\tilde{x_t} = x_t - \\rho x_{t-1}$."
   ]
  },
  {
   "cell_type": "code",
   "execution_count": 42,
   "metadata": {},
   "outputs": [
    {
     "name": "stdout",
     "output_type": "stream",
     "text": [
      "                            OLS Regression Results                            \n",
      "==============================================================================\n",
      "Dep. Variable:                      y   R-squared:                       0.024\n",
      "Model:                            OLS   Adj. R-squared:                  0.020\n",
      "Method:                 Least Squares   F-statistic:                     5.203\n",
      "Date:                Sat, 21 Nov 2020   Prob (F-statistic):             0.0236\n",
      "Time:                        16:31:57   Log-Likelihood:                -66.797\n",
      "No. Observations:                 210   AIC:                             137.6\n",
      "Df Residuals:                     208   BIC:                             144.3\n",
      "Df Model:                           1                                         \n",
      "Covariance Type:            nonrobust                                         \n",
      "==============================================================================\n",
      "                 coef    std err          t      P>|t|      [0.025      0.975]\n",
      "------------------------------------------------------------------------------\n",
      "x1             6.7936      1.152      5.899      0.000       4.523       9.064\n",
      "x2            -0.0996      0.044     -2.281      0.024      -0.186      -0.014\n",
      "==============================================================================\n",
      "Omnibus:                       82.032   Durbin-Watson:                   0.725\n",
      "Prob(Omnibus):                  0.000   Jarque-Bera (JB):              283.478\n",
      "Skew:                           1.600   Prob(JB):                     2.78e-62\n",
      "Kurtosis:                       7.707   Cond. No.                         26.4\n",
      "==============================================================================\n",
      "\n",
      "Warnings:\n",
      "[1] Standard Errors assume that the covariance matrix of the errors is correctly specified.\n"
     ]
    }
   ],
   "source": [
    "# obtain the rho value for the residuals of the AR(1) model\n",
    "rho = residuals_ar_results.params[1]\n",
    "\n",
    "# create y_hat variable\n",
    "y = unemp.to_numpy()\n",
    "y_t1 = y[1:]\n",
    "y_t0 = y[:-1]\n",
    "\n",
    "y_hat = y_t1 - rho*y_t0\n",
    "\n",
    "# create x_hat variable\n",
    "x = inf.to_numpy()\n",
    "x_t1 = x[1:]\n",
    "x_t0 = x[:-1]\n",
    "\n",
    "x_hat = x_t1 - rho*x_t0\n",
    "const_hat = np.ones(x_hat.shape) - rho\n",
    "X_hat = np.column_stack((const_hat, x_hat))\n",
    "\n",
    "# regress y_hat on x_hat\n",
    "phillips_correction = OLS(y_hat, X_hat)\n",
    "phillips_correction_results = phillips_correction.fit()\n",
    "print(phillips_correction_results.summary())"
   ]
  },
  {
   "cell_type": "markdown",
   "metadata": {},
   "source": [
    "We can see in the plot below that the residual autocorrelation is significantly reduced after we perform this correction in the OLS model:"
   ]
  },
  {
   "cell_type": "code",
   "execution_count": 204,
   "metadata": {},
   "outputs": [
    {
     "data": {
      "image/png": "[encoded data removed]",
      "text/plain": [
       "<Figure size 720x288 with 2 Axes>"
      ]
     },
     "metadata": {
      "needs_background": "light"
     },
     "output_type": "display_data"
    }
   ],
   "source": [
    "fig, ax = plt.subplots(1,2, sharey=True, figsize=(10,4))\n",
    "plot_acf(residuals, ax=ax[0])\n",
    "plot_acf(phillips_correction_results.resid, ax=ax[1])\n",
    "ax[0].set_title('Original OLS Error Autocorrelation', pad=10)\n",
    "ax[1].set_title('OLS With Correction for Error Autocorrelation', pad=10)\n",
    "ax[0].set_ylabel('Correlation')\n",
    "ax[0].set_xlabel('Lag')\n",
    "ax[1].set_xlabel('Lag')\n",
    "plt.tight_layout()\n",
    "plt.show()"
   ]
  },
  {
   "cell_type": "markdown",
   "metadata": {},
   "source": [
    "Again, we can plot the OLS predictions to see how it fit the data we used, this time using the estimator with correction for autocorrelated errors."
   ]
  },
  {
   "cell_type": "code",
   "execution_count": 43,
   "metadata": {},
   "outputs": [
    {
     "data": {
      "image/png": "[encoded data removed]",
      "text/plain": [
       "<Figure size 432x288 with 1 Axes>"
      ]
     },
     "metadata": {
      "needs_background": "light"
     },
     "output_type": "display_data"
    }
   ],
   "source": [
    "# generate model predictions on a linspace of inflation values\n",
    "inf_samples = np.linspace(0.1,4,100)\n",
    "const = np.ones(inf_samples.size)\n",
    "X_samples = np.column_stack((const, inf_samples))\n",
    "\n",
    "pred = phillips_correction_results.predict(X_samples)\n",
    "\n",
    "# plot the original samples and the predictions from the OLS w/ correction for autocorrelated error\n",
    "plt.figure()\n",
    "plt.plot(inf_samples, pred, c='tab:red', lw=3, label='OLS w/ Correction')\n",
    "plt.scatter(inf, y, label='Samples')\n",
    "plt.legend(loc='upper left')\n",
    "plt.title('Phillips Curve', pad=10)\n",
    "plt.xlabel('Inflation Rate (%)', labelpad=10)\n",
    "plt.ylabel('Unemployment Rate (%)')\n",
    "plt.show()"
   ]
  },
  {
   "cell_type": "markdown",
   "metadata": {},
   "source": [
    "### Question 9)"
   ]
  },
  {
   "cell_type": "markdown",
   "metadata": {},
   "source": [
    "First, let's split the data into two, equal sized, subsamples:"
   ]
  },
  {
   "cell_type": "code",
   "execution_count": 44,
   "metadata": {},
   "outputs": [],
   "source": [
    "half_len = len(inf)//2\n",
    "\n",
    "inf1 = inf[:half_len]\n",
    "unemp1 = unemp[:half_len]\n",
    "\n",
    "inf2 = inf[half_len+1:]\n",
    "unemp2 = unemp[half_len+1:]"
   ]
  },
  {
   "cell_type": "code",
   "execution_count": 45,
   "metadata": {},
   "outputs": [
    {
     "data": {
      "image/png": "[encoded data removed]",
      "text/plain": [
       "<Figure size 432x288 with 1 Axes>"
      ]
     },
     "metadata": {
      "needs_background": "light"
     },
     "output_type": "display_data"
    }
   ],
   "source": [
    "plt.figure()\n",
    "plt.title('Phillips Curve Data for Different Subsamples', pad=10)\n",
    "plt.scatter(inf1, unemp1)\n",
    "plt.scatter(inf2, unemp2)\n",
    "plt.legend(['First half', 'Second half'])\n",
    "plt.ylabel('Unemployment Rate (%)')\n",
    "plt.xlabel('Inflation Rate (%)', labelpad=10)\n",
    "plt.show()"
   ]
  },
  {
   "cell_type": "markdown",
   "metadata": {},
   "source": [
    "Now, we want to perform a Chow Test to test the null hypothesis $H_0$: there's no significant improvement in fit by splitting the data and fitting each subsample individually. First, let's obtain the sum of squared residuals (SSR) for the original model:"
   ]
  },
  {
   "cell_type": "code",
   "execution_count": 85,
   "metadata": {},
   "outputs": [
    {
     "name": "stdout",
     "output_type": "stream",
     "text": [
      "SSR for full data model: 23.2287\n"
     ]
    }
   ],
   "source": [
    "SSR = phillips_correction_results.ssr\n",
    "print('SSR for full data model:', round(SSR,4))"
   ]
  },
  {
   "cell_type": "markdown",
   "metadata": {},
   "source": [
    "Now, let's fit individual error corrected models for each subsample of the data:"
   ]
  },
  {
   "cell_type": "code",
   "execution_count": 86,
   "metadata": {},
   "outputs": [
    {
     "name": "stdout",
     "output_type": "stream",
     "text": [
      "SSR for subsample 1 model: 13.5797\n"
     ]
    }
   ],
   "source": [
    "### Model for the first subsample\n",
    "\n",
    "# fit the regular phillips curve OLS model\n",
    "const1 = np.ones(inf1.shape)\n",
    "X1 = np.column_stack((const1, inf1))\n",
    "\n",
    "phillips1 = OLS(unemp1, X1)\n",
    "phillips_results1 = phillips1.fit()\n",
    "\n",
    "# fit an AR(1) model to the OLS residuals\n",
    "residuals1 = phillips_results1.resid\n",
    "residuals1_ar = AutoReg(residuals1, lags=1)\n",
    "residuals1_ar_results = residuals1_ar.fit()\n",
    "\n",
    "# obtain the rho value for the residuals of the AR(1) model\n",
    "rho1 = residuals1_ar_results.params[1]\n",
    "\n",
    "# create y1_hat variable\n",
    "y1 = unemp1.to_numpy()\n",
    "y1_t1 = y1[1:]\n",
    "y1_t0 = y1[:-1]\n",
    "\n",
    "y1_hat = y1_t1 - rho1*y1_t0\n",
    "\n",
    "# create x1_hat variable\n",
    "x1 = inf1.to_numpy()\n",
    "x1_t1 = x1[1:]\n",
    "x1_t0 = x1[:-1]\n",
    "\n",
    "x1_hat = x1_t1 - rho1*x1_t0\n",
    "const1_hat = np.ones(x1_hat.shape) - rho1\n",
    "X1_hat = np.column_stack((const1_hat, x1_hat))\n",
    "\n",
    "# regress y1_hat on x1_hat\n",
    "phillips_correction1 = OLS(y1_hat, X1_hat)\n",
    "phillips_correction1_results = phillips_correction1.fit()\n",
    "SSR1 = phillips_correction1_results.ssr\n",
    "print('SSR for subsample 1 model:', round(SSR1,4))"
   ]
  },
  {
   "cell_type": "code",
   "execution_count": 87,
   "metadata": {},
   "outputs": [
    {
     "name": "stdout",
     "output_type": "stream",
     "text": [
      "SSR for subsample 2 model: 8.7855\n"
     ]
    }
   ],
   "source": [
    "### Model for the second subsample\n",
    "\n",
    "# fit the regular phillips curve OLS model\n",
    "const2 = np.ones(inf2.shape)\n",
    "X2 = np.column_stack((const2, inf2))\n",
    "\n",
    "phillips2 = OLS(unemp2, X2)\n",
    "phillips_results2 = phillips2.fit()\n",
    "\n",
    "# fit an AR(1) model to the OLS residuals\n",
    "residuals2 = phillips_results2.resid\n",
    "residuals2_ar = AutoReg(residuals2, lags=1)\n",
    "residuals2_ar_results = residuals2_ar.fit()\n",
    "\n",
    "# obtain the rho value for the residuals of the AR(1) model\n",
    "rho2 = residuals2_ar_results.params[1]\n",
    "\n",
    "# create y1_hat variable\n",
    "y2 = unemp2.to_numpy()\n",
    "y2_t1 = y2[1:]\n",
    "y2_t0 = y2[:-1]\n",
    "\n",
    "y2_hat = y2_t1 - rho2*y2_t0\n",
    "\n",
    "# create x1_hat variable\n",
    "x2 = inf2.to_numpy()\n",
    "x2_t1 = x2[1:]\n",
    "x2_t0 = x2[:-1]\n",
    "\n",
    "x2_hat = x2_t1 - rho2*x2_t0\n",
    "const2_hat = np.ones(x2_hat.shape) - rho2\n",
    "X2_hat = np.column_stack((const2_hat, x2_hat))\n",
    "\n",
    "# regress y1_hat on x1_hat\n",
    "phillips_correction2 = OLS(y2_hat, X2_hat)\n",
    "phillips_correction2_results = phillips_correction2.fit()\n",
    "SSR2 = phillips_correction2_results.ssr\n",
    "print('SSR for subsample 2 model:', round(SSR2,4))"
   ]
  },
  {
   "cell_type": "markdown",
   "metadata": {},
   "source": [
    "Let's plot the fit results for each individual model:"
   ]
  },
  {
   "cell_type": "code",
   "execution_count": 81,
   "metadata": {},
   "outputs": [
    {
     "data": {
      "image/png": "[encoded data removed]",
      "text/plain": [
       "<Figure size 864x360 with 3 Axes>"
      ]
     },
     "metadata": {
      "needs_background": "light"
     },
     "output_type": "display_data"
    }
   ],
   "source": [
    "# generate model predictions on a linspace of inflation values\n",
    "inf_samples = np.linspace(-2.5,4.5,100)\n",
    "const = np.ones(inf_samples.size)\n",
    "X_samples = np.column_stack((const, inf_samples))\n",
    "\n",
    "pred = phillips_correction_results.predict(X_samples)\n",
    "pred1 = phillips_correction1_results.predict(X_samples)\n",
    "pred2 = phillips_correction2_results.predict(X_samples)\n",
    "\n",
    "# plot the original samples and the predictions from the OLS w/ correction for autocorrelated error\n",
    "fig, ax = plt.subplots(1, 3, sharey=True, figsize=(12,5))\n",
    "\n",
    "ax[0].plot(inf_samples, pred, c='k', lw=3)\n",
    "ax[0].scatter(inf, unemp, c='tab:grey')\n",
    "ax[0].set_xlabel('Inflation Rate (%)', labelpad=10)\n",
    "ax[0].set_ylabel('Unemployment Rate (%)')\n",
    "ax[0].set_title('Full Data')\n",
    "ax[0].legend(['Model Fit', 'Samples'])\n",
    "\n",
    "ax[1].plot(inf_samples, pred1, c='k', lw=3)\n",
    "ax[1].scatter(inf1, unemp1, c='tab:blue')\n",
    "ax[1].set_xlabel('Inflation Rate (%)', labelpad=10)\n",
    "ax[1].set_title('Subsample 1')\n",
    "ax[1].legend(['Model Fit', 'Samples'])\n",
    "\n",
    "ax[2].plot(inf_samples, pred2, c='k', lw=3)\n",
    "ax[2].scatter(inf2, unemp2, c='tab:orange')\n",
    "ax[2].set_xlabel('Inflation Rate (%)', labelpad=10)\n",
    "ax[2].set_title('Subsample 2')\n",
    "ax[2].legend(['Model Fit', 'Samples'])\n",
    "\n",
    "fig.suptitle('Phillips Curve Models')\n",
    "plt.tight_layout()\n",
    "plt.show()"
   ]
  },
  {
   "cell_type": "markdown",
   "metadata": {},
   "source": [
    "Now, we can calculate the Chow Test F-statistic, which follows an F-distribution with $k$ and $n-2k$ degrees of freedom. Therefore, we can calculate the critical f-value for this distribution as well as the measured statistic p-value."
   ]
  },
  {
   "cell_type": "code",
   "execution_count": 99,
   "metadata": {},
   "outputs": [
    {
     "name": "stdout",
     "output_type": "stream",
     "text": [
      "Chow test F-value: 3.9768\n",
      "critical f-value: 3.0397\n",
      "p-value: 0.0202\n"
     ]
    }
   ],
   "source": [
    "from scipy.stats import f\n",
    "\n",
    "k = 2 # number of explanatory variables\n",
    "n = len(inf1) + len(inf2) # number of samples\n",
    "\n",
    "F = ((SSR - SSR1 - SSR2)/k)/((SSR1 + SSR2)/(n - 2*k))\n",
    "print('Chow test F-value:', round(F,4))\n",
    "\n",
    "F_critical = f.ppf(0.95, k, n-2*k)\n",
    "print('critical f-value:', round(F_critical, 4))\n",
    "\n",
    "p_value = 1 - f.cdf(F, k, n-2*k)\n",
    "print('p-value:', round(p_value, 4))"
   ]
  },
  {
   "cell_type": "markdown",
   "metadata": {},
   "source": [
    "We can see that the p-value is below 5%, and, therefore, we reject the null hypothesis that there's no improvement in fit by splitting the data and fitting each subsample individually. This indicates that the model for the full data is not stable throughout time."
   ]
  },
  {
   "cell_type": "markdown",
   "metadata": {},
   "source": [
    "### Question 10)"
   ]
  },
  {
   "cell_type": "markdown",
   "metadata": {},
   "source": [
    "To perform the Granger Causality Test, we will test the null hypothesis $H_0$: **inflation does not Granger cause unemployment**. To this end, we're going to fit two OLS models to the unemployment data: one containing the 4 previous lags of unemployment and inflation (unrestricted model), and the other containing only the 4 previous lags of unemployment itself (restricted model)."
   ]
  },
  {
   "cell_type": "code",
   "execution_count": 170,
   "metadata": {},
   "outputs": [
    {
     "name": "stdout",
     "output_type": "stream",
     "text": [
      "Unrestricted Model:\n",
      "\n",
      "                            OLS Regression Results                            \n",
      "==============================================================================\n",
      "Dep. Variable:                  Unemp   R-squared:                       0.979\n",
      "Model:                            OLS   Adj. R-squared:                  0.978\n",
      "Method:                 Least Squares   F-statistic:                     1145.\n",
      "Date:                Sun, 22 Nov 2020   Prob (F-statistic):          2.80e-161\n",
      "Time:                        01:34:41   Log-Likelihood:                 4.6497\n",
      "No. Observations:                 207   AIC:                             8.701\n",
      "Df Residuals:                     198   BIC:                             38.70\n",
      "Df Model:                           8                                         \n",
      "Covariance Type:            nonrobust                                         \n",
      "==============================================================================\n",
      "                 coef    std err          t      P>|t|      [0.025      0.975]\n",
      "------------------------------------------------------------------------------\n",
      "const          0.1457      0.072      2.014      0.045       0.003       0.288\n",
      "x1             1.5937      0.071     22.383      0.000       1.453       1.734\n",
      "x2            -0.6472      0.134     -4.832      0.000      -0.911      -0.383\n",
      "x3             0.0222      0.135      0.164      0.870      -0.245       0.289\n",
      "x4            -0.0080      0.070     -0.114      0.910      -0.146       0.130\n",
      "x5             0.0311      0.038      0.827      0.409      -0.043       0.105\n",
      "x6            -0.0236      0.041     -0.577      0.565      -0.104       0.057\n",
      "x7             0.0689      0.040      1.729      0.085      -0.010       0.148\n",
      "x8             0.0163      0.038      0.435      0.664      -0.058       0.090\n",
      "==============================================================================\n",
      "Omnibus:                       29.127   Durbin-Watson:                   1.997\n",
      "Prob(Omnibus):                  0.000   Jarque-Bera (JB):               68.886\n",
      "Skew:                           0.625   Prob(JB):                     1.10e-15\n",
      "Kurtosis:                       5.534   Cond. No.                         143.\n",
      "==============================================================================\n",
      "\n",
      "Warnings:\n",
      "[1] Standard Errors assume that the covariance matrix of the errors is correctly specified.\n",
      "\n",
      "\n",
      "\n",
      "Restricted Model:\n",
      "\n",
      "                            OLS Regression Results                            \n",
      "==============================================================================\n",
      "Dep. Variable:                  Unemp   R-squared:                       0.977\n",
      "Model:                            OLS   Adj. R-squared:                  0.977\n",
      "Method:                 Least Squares   F-statistic:                     2165.\n",
      "Date:                Sun, 22 Nov 2020   Prob (F-statistic):          1.36e-164\n",
      "Time:                        01:34:41   Log-Likelihood:                -2.9991\n",
      "No. Observations:                 207   AIC:                             16.00\n",
      "Df Residuals:                     202   BIC:                             32.66\n",
      "Df Model:                           4                                         \n",
      "Covariance Type:            nonrobust                                         \n",
      "==============================================================================\n",
      "                 coef    std err          t      P>|t|      [0.025      0.975]\n",
      "------------------------------------------------------------------------------\n",
      "const          0.2157      0.071      3.036      0.003       0.076       0.356\n",
      "x1             1.6459      0.070     23.393      0.000       1.507       1.785\n",
      "x2            -0.6975      0.135     -5.159      0.000      -0.964      -0.431\n",
      "x3             0.0238      0.135      0.177      0.860      -0.241       0.289\n",
      "x4            -0.0078      0.070     -0.112      0.911      -0.145       0.130\n",
      "==============================================================================\n",
      "Omnibus:                       39.770   Durbin-Watson:                   1.996\n",
      "Prob(Omnibus):                  0.000   Jarque-Bera (JB):               83.656\n",
      "Skew:                           0.908   Prob(JB):                     6.83e-19\n",
      "Kurtosis:                       5.530   Cond. No.                         138.\n",
      "==============================================================================\n",
      "\n",
      "Warnings:\n",
      "[1] Standard Errors assume that the covariance matrix of the errors is correctly specified.\n"
     ]
    }
   ],
   "source": [
    "# 4 previous lags for inflation\n",
    "inf1 = inf[3:-1]\n",
    "inf2 = inf[2:-2]\n",
    "inf3 = inf[1:-3]\n",
    "inf4 = inf[:-4]\n",
    "\n",
    "# 4 previous lags for unemployment\n",
    "unemp1 = unemp[3:-1]\n",
    "unemp2 = unemp[2:-2]\n",
    "unemp3 = unemp[1:-3]\n",
    "unemp4 = unemp[:-4]\n",
    "\n",
    "const = np.ones(inf1.size)\n",
    "\n",
    "# unrestricted OLS input\n",
    "X_u = np.column_stack((const, unemp1, unemp2, unemp3, unemp4, inf1, inf2, inf3, inf4))\n",
    "\n",
    "# restricted OLS input\n",
    "X_r = np.column_stack((const, unemp1, unemp2, unemp3, unemp4))\n",
    "\n",
    "# target\n",
    "y = unemp[4:]\n",
    "\n",
    "# fit unrestricted OLS model\n",
    "phillips_lagged_u = OLS(y, X_u)\n",
    "phillips_lagged_u_results = phillips_lagged_u.fit()\n",
    "print('Unrestricted Model:\\n')\n",
    "print(phillips_lagged_u_results.summary())\n",
    "\n",
    "# fit restricted OLS model\n",
    "phillips_lagged_r = OLS(y, X_r)\n",
    "phillips_lagged_r_results = phillips_lagged_r.fit()\n",
    "print('\\n\\n\\nRestricted Model:\\n')\n",
    "print(phillips_lagged_r_results.summary())"
   ]
  },
  {
   "cell_type": "markdown",
   "metadata": {},
   "source": [
    "We can see that, in the unrestricted model, the coefficients for the previous 4 lags of inflation (x5 through x8) all pass the t-test (they all have p-values over 0.05). Now, we're going to run an F-test under the hypothesis that **adding the 4 previous lags of inflation to the model does not jointly provide a significantly better fit**:"
   ]
  },
  {
   "cell_type": "code",
   "execution_count": 167,
   "metadata": {},
   "outputs": [
    {
     "name": "stdout",
     "output_type": "stream",
     "text": [
      "F-statistics for Granger Causality Test 3.7967\n",
      "p-value of measured F-statistic: 0.0054\n"
     ]
    }
   ],
   "source": [
    "k_u = X_u.shape[1]\n",
    "k_r = X_r.shape[1]\n",
    "n = len(y)\n",
    "\n",
    "ssr_u = phillips_lagged_u_results.ssr\n",
    "ssr_r = phillips_lagged_r_results.ssr\n",
    "\n",
    "F = ((ssr_r - ssr_u)/(k_u - k_r))/((ssr_u)/(n - k_u))\n",
    "\n",
    "p_value = 1 - f.cdf(F, (k_u - k_r), (n - k_u))\n",
    "\n",
    "print('F-statistics for Granger Causality Test', round(F, 4))\n",
    "print('p-value of measured F-statistic:', round(p_value, 4))"
   ]
  },
  {
   "cell_type": "markdown",
   "metadata": {},
   "source": [
    "The p-value indicates that we can reject this hypothesis at the 5% significance level. Therefore, we can conclude that adding the 4 previous lags of inflation to the model, in fact, does provide a significantly better fit. Thus, we satisfy conditions for the Granger Test, rejecting hypothesis $H_0$, and we can conclude that inflation Granger causes unemployment."
   ]
  },
  {
   "cell_type": "markdown",
   "metadata": {},
   "source": [
    "### Question 11)"
   ]
  },
  {
   "cell_type": "markdown",
   "metadata": {},
   "source": [
    "We can plot the OLS coefficient for each distributed lag in the previous model to obtain the estimated lag distribution for Unemployment:"
   ]
  },
  {
   "cell_type": "code",
   "execution_count": 192,
   "metadata": {},
   "outputs": [
    {
     "data": {
      "image/png": "[encoded data removed]",
      "text/plain": [
       "<Figure size 432x288 with 1 Axes>"
      ]
     },
     "metadata": {
      "needs_background": "light"
     },
     "output_type": "display_data"
    }
   ],
   "source": [
    "# obtain coefficients\n",
    "unemp_coefs = phillips_lagged_u_results.params[1:5]\n",
    "inf_coefs = phillips_lagged_u_results.params[5:]\n",
    "\n",
    "# x values\n",
    "lags = np.arange(1,5)\n",
    "\n",
    "# plot lag distributions\n",
    "plt.figure()\n",
    "\n",
    "plt.plot(lags, unemp_coefs)\n",
    "plt.plot(lags, inf_coefs)\n",
    "\n",
    "plt.title('Estimated Lag Distributions for Unemployment w/ OLS Model', pad=10)\n",
    "plt.ylabel('Impact Multiplier')\n",
    "plt.xlabel('Lag', labelpad=10)\n",
    "plt.legend(['Unemployment', 'Inflation'])\n",
    "plt.xticks([1,2,3,4])\n",
    "\n",
    "plt.tight_layout()\n",
    "plt.show()"
   ]
  },
  {
   "cell_type": "markdown",
   "metadata": {},
   "source": [
    "With this plot, we can see the dynamic effect that a temporary increase in each variable (unemployment or inflation) has on unemployment. We can clearly see in the plot above that a temporary increase in the previous value of unemployment is a lot more impactful on unemployment itself than a temporary increase in the previous value of inflation."
   ]
  },
  {
   "cell_type": "markdown",
   "metadata": {},
   "source": [
    "We can calculate the inflation rate long run impact on the unemployment rate by adding up all of its coefficients."
   ]
  },
  {
   "cell_type": "code",
   "execution_count": 195,
   "metadata": {},
   "outputs": [
    {
     "name": "stdout",
     "output_type": "stream",
     "text": [
      "Previous Inflation Rate long-run impact on Unemployment Rate: 0.0928\n"
     ]
    }
   ],
   "source": [
    "LRP = sum(inf_coefs)\n",
    "print('Previous Inflation Rate long-run impact on Unemployment Rate:', round(LRP,4))"
   ]
  },
  {
   "cell_type": "markdown",
   "metadata": {},
   "source": [
    "Therefore, we can estimate a 9.28% increase in the Unemployment due to a permanent one percent increase in the previous Inflation."
   ]
  }
 ],
 "metadata": {
  "kernelspec": {
   "display_name": "Python [conda env:study] *",
   "language": "python",
   "name": "conda-env-study-py"
  },
  "language_info": {
   "codemirror_mode": {
    "name": "ipython",
    "version": 3
   },
   "file_extension": ".py",
   "mimetype": "text/x-python",
   "name": "python",
   "nbconvert_exporter": "python",
   "pygments_lexer": "ipython3",
   "version": "3.7.9"
  }
 },
 "nbformat": 4,
 "nbformat_minor": 4
}
